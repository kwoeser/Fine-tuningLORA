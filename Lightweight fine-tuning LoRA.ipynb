{
  "cells": [
    {
      "cell_type": "markdown",
      "id": "f35354cd",
      "metadata": {
        "id": "f35354cd"
      },
      "source": [
        "# Lightweight Fine-Tuning Project"
      ]
    },
    {
      "cell_type": "markdown",
      "id": "560fb3ff",
      "metadata": {
        "id": "560fb3ff"
      },
      "source": [
        "TODO: In this cell, describe your choices for each of the following\n",
        "\n",
        "* PEFT technique: LoRA\n",
        "* Model: gpt2\n",
        "* Evaluation approach:\n",
        "* Fine-tuning dataset: Amazon reviews"
      ]
    },
    {
      "cell_type": "markdown",
      "id": "de8d76bb",
      "metadata": {
        "id": "de8d76bb"
      },
      "source": [
        "## Loading and Evaluating a Foundation Model\n",
        "\n",
        "TODO: In the cells below, load your chosen pre-trained Hugging Face model and evaluate its performance prior to fine-tuning. This step includes loading an appropriate tokenizer and dataset."
      ]
    },
    {
      "cell_type": "code",
      "execution_count": 28,
      "id": "fa7fe003",
      "metadata": {
        "colab": {
          "base_uri": "https://localhost:8080/"
        },
        "id": "fa7fe003",
        "outputId": "2f74a782-ed9d-453c-e08b-de9ac6095c8b"
      },
      "outputs": [
        {
          "output_type": "stream",
          "name": "stdout",
          "text": [
            "Requirement already satisfied: numpy in /usr/local/lib/python3.10/dist-packages (1.26.4)\n",
            "Requirement already satisfied: pandas in /usr/local/lib/python3.10/dist-packages (2.1.4)\n",
            "Requirement already satisfied: torch in /usr/local/lib/python3.10/dist-packages (2.3.1+cu121)\n",
            "Requirement already satisfied: scikit_learn in /usr/local/lib/python3.10/dist-packages (1.3.2)\n",
            "Requirement already satisfied: transformers in /usr/local/lib/python3.10/dist-packages (4.42.4)\n",
            "Requirement already satisfied: datasets in /usr/local/lib/python3.10/dist-packages (2.20.0)\n",
            "Requirement already satisfied: peft in /usr/local/lib/python3.10/dist-packages (0.12.0)\n",
            "Requirement already satisfied: python-dateutil>=2.8.2 in /usr/local/lib/python3.10/dist-packages (from pandas) (2.8.2)\n",
            "Requirement already satisfied: pytz>=2020.1 in /usr/local/lib/python3.10/dist-packages (from pandas) (2024.1)\n",
            "Requirement already satisfied: tzdata>=2022.1 in /usr/local/lib/python3.10/dist-packages (from pandas) (2024.1)\n",
            "Requirement already satisfied: filelock in /usr/local/lib/python3.10/dist-packages (from torch) (3.15.4)\n",
            "Requirement already satisfied: typing-extensions>=4.8.0 in /usr/local/lib/python3.10/dist-packages (from torch) (4.12.2)\n",
            "Requirement already satisfied: sympy in /usr/local/lib/python3.10/dist-packages (from torch) (1.13.1)\n",
            "Requirement already satisfied: networkx in /usr/local/lib/python3.10/dist-packages (from torch) (3.3)\n",
            "Requirement already satisfied: jinja2 in /usr/local/lib/python3.10/dist-packages (from torch) (3.1.4)\n",
            "Requirement already satisfied: fsspec in /usr/local/lib/python3.10/dist-packages (from torch) (2024.5.0)\n",
            "Requirement already satisfied: nvidia-cuda-nvrtc-cu12==12.1.105 in /usr/local/lib/python3.10/dist-packages (from torch) (12.1.105)\n",
            "Requirement already satisfied: nvidia-cuda-runtime-cu12==12.1.105 in /usr/local/lib/python3.10/dist-packages (from torch) (12.1.105)\n",
            "Requirement already satisfied: nvidia-cuda-cupti-cu12==12.1.105 in /usr/local/lib/python3.10/dist-packages (from torch) (12.1.105)\n",
            "Requirement already satisfied: nvidia-cudnn-cu12==8.9.2.26 in /usr/local/lib/python3.10/dist-packages (from torch) (8.9.2.26)\n",
            "Requirement already satisfied: nvidia-cublas-cu12==12.1.3.1 in /usr/local/lib/python3.10/dist-packages (from torch) (12.1.3.1)\n",
            "Requirement already satisfied: nvidia-cufft-cu12==11.0.2.54 in /usr/local/lib/python3.10/dist-packages (from torch) (11.0.2.54)\n",
            "Requirement already satisfied: nvidia-curand-cu12==10.3.2.106 in /usr/local/lib/python3.10/dist-packages (from torch) (10.3.2.106)\n",
            "Requirement already satisfied: nvidia-cusolver-cu12==11.4.5.107 in /usr/local/lib/python3.10/dist-packages (from torch) (11.4.5.107)\n",
            "Requirement already satisfied: nvidia-cusparse-cu12==12.1.0.106 in /usr/local/lib/python3.10/dist-packages (from torch) (12.1.0.106)\n",
            "Requirement already satisfied: nvidia-nccl-cu12==2.20.5 in /usr/local/lib/python3.10/dist-packages (from torch) (2.20.5)\n",
            "Requirement already satisfied: nvidia-nvtx-cu12==12.1.105 in /usr/local/lib/python3.10/dist-packages (from torch) (12.1.105)\n",
            "Requirement already satisfied: triton==2.3.1 in /usr/local/lib/python3.10/dist-packages (from torch) (2.3.1)\n",
            "Requirement already satisfied: nvidia-nvjitlink-cu12 in /usr/local/lib/python3.10/dist-packages (from nvidia-cusolver-cu12==11.4.5.107->torch) (12.6.20)\n",
            "Requirement already satisfied: scipy>=1.5.0 in /usr/local/lib/python3.10/dist-packages (from scikit_learn) (1.13.1)\n",
            "Requirement already satisfied: joblib>=1.1.1 in /usr/local/lib/python3.10/dist-packages (from scikit_learn) (1.4.2)\n",
            "Requirement already satisfied: threadpoolctl>=2.0.0 in /usr/local/lib/python3.10/dist-packages (from scikit_learn) (3.5.0)\n",
            "Requirement already satisfied: huggingface-hub<1.0,>=0.23.2 in /usr/local/lib/python3.10/dist-packages (from transformers) (0.23.5)\n",
            "Requirement already satisfied: packaging>=20.0 in /usr/local/lib/python3.10/dist-packages (from transformers) (24.1)\n",
            "Requirement already satisfied: pyyaml>=5.1 in /usr/local/lib/python3.10/dist-packages (from transformers) (6.0.1)\n",
            "Requirement already satisfied: regex!=2019.12.17 in /usr/local/lib/python3.10/dist-packages (from transformers) (2024.5.15)\n",
            "Requirement already satisfied: requests in /usr/local/lib/python3.10/dist-packages (from transformers) (2.32.3)\n",
            "Requirement already satisfied: safetensors>=0.4.1 in /usr/local/lib/python3.10/dist-packages (from transformers) (0.4.3)\n",
            "Requirement already satisfied: tokenizers<0.20,>=0.19 in /usr/local/lib/python3.10/dist-packages (from transformers) (0.19.1)\n",
            "Requirement already satisfied: tqdm>=4.27 in /usr/local/lib/python3.10/dist-packages (from transformers) (4.66.4)\n",
            "Requirement already satisfied: pyarrow>=15.0.0 in /usr/local/lib/python3.10/dist-packages (from datasets) (17.0.0)\n",
            "Requirement already satisfied: pyarrow-hotfix in /usr/local/lib/python3.10/dist-packages (from datasets) (0.6)\n",
            "Requirement already satisfied: dill<0.3.9,>=0.3.0 in /usr/local/lib/python3.10/dist-packages (from datasets) (0.3.8)\n",
            "Requirement already satisfied: xxhash in /usr/local/lib/python3.10/dist-packages (from datasets) (3.4.1)\n",
            "Requirement already satisfied: multiprocess in /usr/local/lib/python3.10/dist-packages (from datasets) (0.70.16)\n",
            "Requirement already satisfied: aiohttp in /usr/local/lib/python3.10/dist-packages (from datasets) (3.9.5)\n",
            "Requirement already satisfied: psutil in /usr/local/lib/python3.10/dist-packages (from peft) (5.9.5)\n",
            "Requirement already satisfied: accelerate>=0.21.0 in /usr/local/lib/python3.10/dist-packages (from peft) (0.32.1)\n",
            "Requirement already satisfied: aiosignal>=1.1.2 in /usr/local/lib/python3.10/dist-packages (from aiohttp->datasets) (1.3.1)\n",
            "Requirement already satisfied: attrs>=17.3.0 in /usr/local/lib/python3.10/dist-packages (from aiohttp->datasets) (23.2.0)\n",
            "Requirement already satisfied: frozenlist>=1.1.1 in /usr/local/lib/python3.10/dist-packages (from aiohttp->datasets) (1.4.1)\n",
            "Requirement already satisfied: multidict<7.0,>=4.5 in /usr/local/lib/python3.10/dist-packages (from aiohttp->datasets) (6.0.5)\n",
            "Requirement already satisfied: yarl<2.0,>=1.0 in /usr/local/lib/python3.10/dist-packages (from aiohttp->datasets) (1.9.4)\n",
            "Requirement already satisfied: async-timeout<5.0,>=4.0 in /usr/local/lib/python3.10/dist-packages (from aiohttp->datasets) (4.0.3)\n",
            "Requirement already satisfied: six>=1.5 in /usr/local/lib/python3.10/dist-packages (from python-dateutil>=2.8.2->pandas) (1.16.0)\n",
            "Requirement already satisfied: charset-normalizer<4,>=2 in /usr/local/lib/python3.10/dist-packages (from requests->transformers) (3.3.2)\n",
            "Requirement already satisfied: idna<4,>=2.5 in /usr/local/lib/python3.10/dist-packages (from requests->transformers) (3.7)\n",
            "Requirement already satisfied: urllib3<3,>=1.21.1 in /usr/local/lib/python3.10/dist-packages (from requests->transformers) (2.0.7)\n",
            "Requirement already satisfied: certifi>=2017.4.17 in /usr/local/lib/python3.10/dist-packages (from requests->transformers) (2024.7.4)\n",
            "Requirement already satisfied: MarkupSafe>=2.0 in /usr/local/lib/python3.10/dist-packages (from jinja2->torch) (2.1.5)\n",
            "Requirement already satisfied: mpmath<1.4,>=1.1.0 in /usr/local/lib/python3.10/dist-packages (from sympy->torch) (1.3.0)\n"
          ]
        }
      ],
      "source": [
        "!pip install numpy pandas torch scikit_learn transformers datasets peft"
      ]
    },
    {
      "cell_type": "code",
      "execution_count": 45,
      "id": "f551c63a",
      "metadata": {
        "id": "f551c63a"
      },
      "outputs": [],
      "source": [
        "# import packages\n",
        "import numpy as np\n",
        "import torch\n",
        "from sklearn.metrics import accuracy_score, precision_score\n",
        "from transformers import DataCollatorWithPadding, Trainer, TrainingArguments, GPT2Tokenizer, GPT2ForSequenceClassification\n",
        "from datasets import load_dataset\n",
        "from peft import LoraConfig, get_peft_model, AutoPeftModelForSequenceClassification\n"
      ]
    },
    {
      "cell_type": "code",
      "execution_count": 46,
      "id": "4935cb4d",
      "metadata": {
        "colab": {
          "base_uri": "https://localhost:8080/"
        },
        "id": "4935cb4d",
        "outputId": "7eece5fc-bcb1-435b-c714-e31b530a1825"
      },
      "outputs": [
        {
          "output_type": "stream",
          "name": "stderr",
          "text": [
            "Some weights of GPT2ForSequenceClassification were not initialized from the model checkpoint at gpt2 and are newly initialized: ['score.weight']\n",
            "You should probably TRAIN this model on a down-stream task to be able to use it for predictions and inference.\n"
          ]
        }
      ],
      "source": [
        "# load pre trained model and tokenizer, set pad token\n",
        "# https://huggingface.co/openai-community/gpt2\n",
        "tokenizer = GPT2Tokenizer.from_pretrained(\"gpt2\")\n",
        "model = GPT2ForSequenceClassification.from_pretrained(\"gpt2\")\n",
        "tokenizer.pad_token = tokenizer.eos_token\n",
        "model.config.pad_token_id = tokenizer.pad_token_id\n"
      ]
    },
    {
      "cell_type": "code",
      "execution_count": 47,
      "id": "MhGFUvPHr232",
      "metadata": {
        "id": "MhGFUvPHr232"
      },
      "outputs": [],
      "source": [
        "# load and preprocess the dataset\n",
        "# https://huggingface.co/datasets/fancyzhx/amazon_polarity\n",
        "dataset = load_dataset(\"amazon_polarity\")\n",
        "# print(dataset['train'][0])\n",
        "# print(dataset['test'][0])\n",
        "\n",
        "# Select a smaller portion of the dataset for quick processing\n",
        "small_train_dataset = dataset['train'].select(range(50000))\n",
        "small_test_dataset = dataset['test'].select(range(40000))\n"
      ]
    },
    {
      "cell_type": "code",
      "execution_count": 48,
      "id": "f28c4a78",
      "metadata": {
        "id": "f28c4a78"
      },
      "outputs": [],
      "source": [
        "def preprocess_function(examples):\n",
        "    return tokenizer(examples['content'], padding='max_length', truncation=True)\n",
        "\n",
        "# FULL NORMAL DATASET\n",
        "# tokenized_train_dataset = dataset['train'].map(preprocess_function, batched=True)\n",
        "# tokenized_test_dataset = dataset['test'].map(preprocess_function, batched=True)\n",
        "\n",
        "# preprocessing function for smaller datasets so I don't have to wait so long\n",
        "tokenized_train_dataset = small_train_dataset.map(preprocess_function, batched=True)\n",
        "tokenized_test_dataset = small_test_dataset.map(preprocess_function, batched=True)\n",
        "\n",
        "# convert the format of the dataset\n",
        "def convert_to_torch_format(dataset):\n",
        "    dataset.set_format(type='torch', columns=['input_ids', 'attention_mask', 'label'])\n",
        "\n",
        "convert_to_torch_format(tokenized_train_dataset)\n",
        "convert_to_torch_format(tokenized_test_dataset)\n"
      ]
    },
    {
      "cell_type": "code",
      "execution_count": 43,
      "id": "019b9f55",
      "metadata": {
        "id": "019b9f55"
      },
      "outputs": [],
      "source": [
        "# Split the dataset into training and test sets\n",
        "train_dataset = tokenized_train_dataset\n",
        "test_dataset = tokenized_test_dataset\n",
        "\n",
        "# Smaller datasets for testing\n",
        "two_small_train_dataset = train_dataset.select(range(300))\n",
        "two_small_test_dataset = test_dataset.select(range(200))"
      ]
    },
    {
      "cell_type": "code",
      "execution_count": 54,
      "id": "5176b07f",
      "metadata": {
        "colab": {
          "base_uri": "https://localhost:8080/",
          "height": 290
        },
        "id": "5176b07f",
        "outputId": "a603cfc1-ff85-417f-e7dc-8d63f4b6e0cd"
      },
      "outputs": [
        {
          "output_type": "display_data",
          "data": {
            "text/plain": [
              "<IPython.core.display.HTML object>"
            ],
            "text/html": [
              "\n",
              "    <div>\n",
              "      \n",
              "      <progress value='250' max='250' style='width:300px; height:20px; vertical-align: middle;'></progress>\n",
              "      [250/250 06:53, Epoch 5/5]\n",
              "    </div>\n",
              "    <table border=\"1\" class=\"dataframe\">\n",
              "  <thead>\n",
              " <tr style=\"text-align: left;\">\n",
              "      <th>Epoch</th>\n",
              "      <th>Training Loss</th>\n",
              "      <th>Validation Loss</th>\n",
              "      <th>Accuracy</th>\n",
              "      <th>Precision</th>\n",
              "    </tr>\n",
              "  </thead>\n",
              "  <tbody>\n",
              "    <tr>\n",
              "      <td>1</td>\n",
              "      <td>0.202300</td>\n",
              "      <td>0.586584</td>\n",
              "      <td>0.850000</td>\n",
              "      <td>0.883495</td>\n",
              "    </tr>\n",
              "    <tr>\n",
              "      <td>2</td>\n",
              "      <td>0.576600</td>\n",
              "      <td>0.659726</td>\n",
              "      <td>0.845000</td>\n",
              "      <td>0.875000</td>\n",
              "    </tr>\n",
              "    <tr>\n",
              "      <td>3</td>\n",
              "      <td>0.057100</td>\n",
              "      <td>0.687276</td>\n",
              "      <td>0.850000</td>\n",
              "      <td>0.876190</td>\n",
              "    </tr>\n",
              "    <tr>\n",
              "      <td>4</td>\n",
              "      <td>0.115800</td>\n",
              "      <td>0.690540</td>\n",
              "      <td>0.850000</td>\n",
              "      <td>0.876190</td>\n",
              "    </tr>\n",
              "    <tr>\n",
              "      <td>5</td>\n",
              "      <td>0.283900</td>\n",
              "      <td>0.691338</td>\n",
              "      <td>0.840000</td>\n",
              "      <td>0.873786</td>\n",
              "    </tr>\n",
              "  </tbody>\n",
              "</table><p>"
            ]
          },
          "metadata": {}
        },
        {
          "output_type": "display_data",
          "data": {
            "text/plain": [
              "<IPython.core.display.HTML object>"
            ],
            "text/html": [
              "\n",
              "    <div>\n",
              "      \n",
              "      <progress value='34' max='34' style='width:300px; height:20px; vertical-align: middle;'></progress>\n",
              "      [34/34 00:14]\n",
              "    </div>\n",
              "    "
            ]
          },
          "metadata": {}
        },
        {
          "output_type": "stream",
          "name": "stdout",
          "text": [
            "Original model evaluation results: {'eval_loss': 0.6913375854492188, 'eval_accuracy': 0.84, 'eval_precision': 0.8737864077669902, 'eval_runtime': 15.132, 'eval_samples_per_second': 13.217, 'eval_steps_per_second': 2.247, 'epoch': 5.0}\n"
          ]
        }
      ],
      "source": [
        "# Define compute_metrics function\n",
        "def compute_metrics(eval_pred):\n",
        "    predictions = np.argmax(eval_pred.predictions, axis=1)\n",
        "    return {\"accuracy\": accuracy_score(eval_pred.label_ids, predictions), \"precision\": precision_score(eval_pred.label_ids, predictions)}\n",
        "\n",
        "\n",
        "# Training arguments\n",
        "gpt2_training_args = TrainingArguments(\n",
        "    output_dir='./results',\n",
        "    eval_strategy=\"epoch\",  # Evaluate at the end of each epoch\n",
        "    logging_dir='./logs',\n",
        "    logging_steps=10,\n",
        "    per_device_train_batch_size=6,\n",
        "    per_device_eval_batch_size=6,\n",
        "    # num_train_epochs = 2,\n",
        "    num_train_epochs = 5,\n",
        "    weight_decay=0.01,\n",
        "    save_strategy=\"epoch\",\n",
        ")\n",
        "\n",
        "# Initialize Trainer with the base model\n",
        "trainer = Trainer(\n",
        "    model=model,\n",
        "    args=gpt2_training_args,\n",
        "    # train_dataset=train_dataset, # full dataset takes much longer to train\n",
        "    # eval_dataset=test_dataset,\n",
        "    train_dataset= two_small_train_dataset, # added for testing, smaller datasets\n",
        "    eval_dataset= two_small_test_dataset,\n",
        "    tokenizer=tokenizer,\n",
        "    data_collator=DataCollatorWithPadding(tokenizer=tokenizer),\n",
        "    compute_metrics=compute_metrics,\n",
        ")\n",
        "\n",
        "# Train the model and evaluate\n",
        "trainer.train()\n",
        "original_model_eval_results = trainer.evaluate()\n",
        "print(f\"Original model evaluation results: {original_model_eval_results}\")\n"
      ]
    },
    {
      "cell_type": "markdown",
      "id": "4d52a229",
      "metadata": {
        "id": "4d52a229"
      },
      "source": [
        "## Performing Parameter-Efficient Fine-Tuning\n",
        "\n",
        "TODO: In the cells below, create a PEFT model from your loaded model, run a training loop, and save the PEFT model weights."
      ]
    },
    {
      "cell_type": "code",
      "execution_count": 51,
      "id": "6mFfeS3cjSmE",
      "metadata": {
        "id": "6mFfeS3cjSmE",
        "colab": {
          "base_uri": "https://localhost:8080/"
        },
        "outputId": "50157fe5-d256-4e3c-b6d9-7a3e57c0a206"
      },
      "outputs": [
        {
          "output_type": "stream",
          "name": "stderr",
          "text": [
            "/usr/local/lib/python3.10/dist-packages/peft/tuners/lora/layer.py:1091: UserWarning: fan_in_fan_out is set to False but the target module is `Conv1D`. Setting fan_in_fan_out to True.\n",
            "  warnings.warn(\n"
          ]
        }
      ],
      "source": [
        "# LoRA configuration\n",
        "peft_config = LoraConfig(\n",
        "    r=16,  # rank of the low-rank decomposition\n",
        "    task_type=\"SEQ_CLS\",  # task type\n",
        "    lora_alpha=32,\n",
        "    lora_dropout=0.2,  # dropout rate\n",
        "    target_modules=['attn.c_attn', 'attn.c_proj'],\n",
        "    bias=\"none\",\n",
        ")\n",
        "\n",
        "# init the base model\n",
        "lora_model = get_peft_model(model, peft_config)"
      ]
    },
    {
      "cell_type": "code",
      "execution_count": 53,
      "id": "-UbNV50HjSuf",
      "metadata": {
        "colab": {
          "base_uri": "https://localhost:8080/",
          "height": 290
        },
        "id": "-UbNV50HjSuf",
        "outputId": "34d8c254-0926-4d38-9e65-719a4eebc7f1"
      },
      "outputs": [
        {
          "output_type": "display_data",
          "data": {
            "text/plain": [
              "<IPython.core.display.HTML object>"
            ],
            "text/html": [
              "\n",
              "    <div>\n",
              "      \n",
              "      <progress value='250' max='250' style='width:300px; height:20px; vertical-align: middle;'></progress>\n",
              "      [250/250 06:31, Epoch 5/5]\n",
              "    </div>\n",
              "    <table border=\"1\" class=\"dataframe\">\n",
              "  <thead>\n",
              " <tr style=\"text-align: left;\">\n",
              "      <th>Epoch</th>\n",
              "      <th>Training Loss</th>\n",
              "      <th>Validation Loss</th>\n",
              "      <th>Accuracy</th>\n",
              "      <th>Precision</th>\n",
              "    </tr>\n",
              "  </thead>\n",
              "  <tbody>\n",
              "    <tr>\n",
              "      <td>1</td>\n",
              "      <td>0.203500</td>\n",
              "      <td>0.459311</td>\n",
              "      <td>0.860000</td>\n",
              "      <td>0.917526</td>\n",
              "    </tr>\n",
              "    <tr>\n",
              "      <td>2</td>\n",
              "      <td>0.610800</td>\n",
              "      <td>0.513158</td>\n",
              "      <td>0.860000</td>\n",
              "      <td>0.900990</td>\n",
              "    </tr>\n",
              "    <tr>\n",
              "      <td>3</td>\n",
              "      <td>0.145300</td>\n",
              "      <td>0.559212</td>\n",
              "      <td>0.850000</td>\n",
              "      <td>0.883495</td>\n",
              "    </tr>\n",
              "    <tr>\n",
              "      <td>4</td>\n",
              "      <td>0.116700</td>\n",
              "      <td>0.570648</td>\n",
              "      <td>0.850000</td>\n",
              "      <td>0.883495</td>\n",
              "    </tr>\n",
              "    <tr>\n",
              "      <td>5</td>\n",
              "      <td>0.274200</td>\n",
              "      <td>0.577343</td>\n",
              "      <td>0.850000</td>\n",
              "      <td>0.883495</td>\n",
              "    </tr>\n",
              "  </tbody>\n",
              "</table><p>"
            ]
          },
          "metadata": {}
        },
        {
          "output_type": "display_data",
          "data": {
            "text/plain": [
              "<IPython.core.display.HTML object>"
            ],
            "text/html": [
              "\n",
              "    <div>\n",
              "      \n",
              "      <progress value='34' max='34' style='width:300px; height:20px; vertical-align: middle;'></progress>\n",
              "      [34/34 00:14]\n",
              "    </div>\n",
              "    "
            ]
          },
          "metadata": {}
        },
        {
          "output_type": "stream",
          "name": "stdout",
          "text": [
            "LoRA model evaluation results: {'eval_loss': 0.577342689037323, 'eval_accuracy': 0.85, 'eval_precision': 0.883495145631068, 'eval_runtime': 15.1485, 'eval_samples_per_second': 13.203, 'eval_steps_per_second': 2.244, 'epoch': 5.0}\n"
          ]
        }
      ],
      "source": [
        "# Training arguments for LoRA model\n",
        "lora_training_args = TrainingArguments(\n",
        "    output_dir='./results/lora_results',\n",
        "    eval_strategy=\"epoch\",\n",
        "    logging_dir='./lora_logs',\n",
        "    logging_steps = 10,\n",
        "    per_device_train_batch_size = 6,\n",
        "    per_device_eval_batch_size = 6,\n",
        "    # num_train_epochs = 2,\n",
        "    num_train_epochs = 5,\n",
        "    weight_decay = 0.01,\n",
        "    save_strategy = \"epoch\",\n",
        ")\n",
        "\n",
        "# init trainer for LoRA model\n",
        "lora_trainer = Trainer(\n",
        "    model=lora_model,\n",
        "    args=lora_training_args,\n",
        "    # train_dataset=tokenized_train_dataset, # full dataset takes longer to train\n",
        "    # eval_dataset=tokenized_test_dataset,\n",
        "    train_dataset=two_small_train_dataset,\n",
        "    eval_dataset=two_small_test_dataset,\n",
        "    tokenizer=tokenizer,\n",
        "    data_collator=DataCollatorWithPadding(tokenizer=tokenizer),\n",
        "    compute_metrics=compute_metrics,\n",
        ")\n",
        "\n",
        "# Train the LoRA model and evaluate the model\n",
        "lora_trainer.train()\n",
        "lora_model_eval_results = lora_trainer.evaluate()\n",
        "print(f\"LoRA model evaluation results: {lora_model_eval_results}\")"
      ]
    },
    {
      "cell_type": "code",
      "source": [
        "# Save the PEFT LoRA model\n",
        "lora_trainer.save_model(\"./models/Lora\")"
      ],
      "metadata": {
        "id": "TczdI4xtVI4L"
      },
      "id": "TczdI4xtVI4L",
      "execution_count": 55,
      "outputs": []
    },
    {
      "cell_type": "markdown",
      "id": "615b12c6",
      "metadata": {
        "id": "615b12c6"
      },
      "source": [
        "## Performing Inference with a PEFT Model\n",
        "\n",
        "TODO: In the cells below, load the saved PEFT model weights and evaluate the performance of the trained PEFT model. Be sure to compare the results to the results from prior to fine-tuning."
      ]
    },
    {
      "cell_type": "code",
      "source": [
        "print(\"Compare the two models \\n ----------------------\")\n",
        "print(f\"LoRA model evaluation results: {lora_model_eval_results}\\n\")\n",
        "print(f\"Original model evaluation results: {original_model_eval_results}\")"
      ],
      "metadata": {
        "colab": {
          "base_uri": "https://localhost:8080/"
        },
        "id": "9JWilT2sUby6",
        "outputId": "b4d3d13e-16b9-4ec1-9f4a-eda413053391"
      },
      "id": "9JWilT2sUby6",
      "execution_count": 56,
      "outputs": [
        {
          "output_type": "stream",
          "name": "stdout",
          "text": [
            "Compare the two models \n",
            " ----------------------\n",
            "LoRA model evaluation results: {'eval_loss': 0.577342689037323, 'eval_accuracy': 0.85, 'eval_precision': 0.883495145631068, 'eval_runtime': 15.1485, 'eval_samples_per_second': 13.203, 'eval_steps_per_second': 2.244, 'epoch': 5.0}\n",
            "\n",
            "Original model evaluation results: {'eval_loss': 0.6913375854492188, 'eval_accuracy': 0.84, 'eval_precision': 0.8737864077669902, 'eval_runtime': 15.132, 'eval_samples_per_second': 13.217, 'eval_steps_per_second': 2.247, 'epoch': 5.0}\n"
          ]
        }
      ]
    },
    {
      "cell_type": "code",
      "execution_count": 57,
      "id": "863ec66e",
      "metadata": {
        "colab": {
          "base_uri": "https://localhost:8080/"
        },
        "id": "863ec66e",
        "outputId": "7cd95d2b-f7c8-48e7-80e6-eba666d26ab3"
      },
      "outputs": [
        {
          "output_type": "stream",
          "name": "stderr",
          "text": [
            "Some weights of GPT2ForSequenceClassification were not initialized from the model checkpoint at gpt2 and are newly initialized: ['score.weight']\n",
            "You should probably TRAIN this model on a down-stream task to be able to use it for predictions and inference.\n"
          ]
        }
      ],
      "source": [
        "# Load the saved PEFT model\n",
        "loaded_lora_model = AutoPeftModelForSequenceClassification.from_pretrained(\"./models/Lora\", num_labels=2)\n",
        "loaded_lora_model.config.pad_token_id = loaded_lora_model.config.eos_token_id"
      ]
    },
    {
      "cell_type": "code",
      "execution_count": 58,
      "id": "866ab28c",
      "metadata": {
        "id": "866ab28c"
      },
      "outputs": [],
      "source": [
        "# Training arguments for LoRA model\n",
        "loaded_lora_training_args = TrainingArguments(\n",
        "    output_dir='./results/lora_results',\n",
        "    eval_strategy = \"epoch\",\n",
        "    logging_dir='./lora_logs',\n",
        "    logging_steps=10,\n",
        "    per_device_train_batch_size=8,\n",
        "    per_device_eval_batch_size=8,\n",
        "    num_train_epochs=2,\n",
        "    weight_decay=0.01,\n",
        "    save_strategy=\"epoch\",\n",
        ")\n",
        "\n",
        "# init trainer for LoRA model\n",
        "loaded_lora_trainer = Trainer(\n",
        "    model=loaded_lora_model,\n",
        "    args=loaded_lora_training_args,\n",
        "    train_dataset=tokenized_train_dataset, # full dataset takes longer to train\n",
        "    eval_dataset=tokenized_test_dataset,\n",
        "    # train_dataset=two_small_train_dataset,\n",
        "    # eval_dataset=two_small_test_dataset,\n",
        "    tokenizer=tokenizer,\n",
        "    data_collator=DataCollatorWithPadding(tokenizer=tokenizer),\n",
        "    compute_metrics=compute_metrics,\n",
        ")\n",
        "\n",
        "# loaded_lora_trainer.train()"
      ]
    },
    {
      "cell_type": "code",
      "execution_count": 59,
      "id": "f9a32e4e",
      "metadata": {
        "id": "f9a32e4e",
        "colab": {
          "base_uri": "https://localhost:8080/",
          "height": 179
        },
        "outputId": "99073dfc-5fdd-45c4-a697-6c29278e48a6"
      },
      "outputs": [
        {
          "output_type": "display_data",
          "data": {
            "text/plain": [
              "<IPython.core.display.HTML object>"
            ],
            "text/html": [
              "\n",
              "    <div>\n",
              "      \n",
              "      <progress value='5000' max='5000' style='width:300px; height:20px; vertical-align: middle;'></progress>\n",
              "      [5000/5000 49:48]\n",
              "    </div>\n",
              "    "
            ]
          },
          "metadata": {}
        },
        {
          "output_type": "stream",
          "name": "stdout",
          "text": [
            "Compare the models \n",
            " -------------------\n",
            "Original model evaluation results: {'eval_loss': 0.6913375854492188, 'eval_accuracy': 0.84, 'eval_precision': 0.8737864077669902, 'eval_runtime': 15.132, 'eval_samples_per_second': 13.217, 'eval_steps_per_second': 2.247, 'epoch': 5.0}\n",
            "\n",
            "LoRA model evaluation results: {'eval_loss': 0.577342689037323, 'eval_accuracy': 0.85, 'eval_precision': 0.883495145631068, 'eval_runtime': 15.1485, 'eval_samples_per_second': 13.203, 'eval_steps_per_second': 2.244, 'epoch': 5.0}\n",
            "\n",
            "Loaded LoRA Model Evaluation: {'eval_loss': 2.307964563369751, 'eval_accuracy': 0.4915, 'eval_precision': 0.6067415730337079, 'eval_runtime': 2989.4783, 'eval_samples_per_second': 13.38, 'eval_steps_per_second': 1.673}\n"
          ]
        }
      ],
      "source": [
        "# Evaluate the PEFT model\n",
        "loaded_lora_model_eval_results = loaded_lora_trainer.evaluate()\n",
        "\n",
        "# Compare models\n",
        "print(\"Compare the models \\n -------------------\")\n",
        "print(f\"Original model evaluation results: {original_model_eval_results}\\n\")\n",
        "print(f\"LoRA model evaluation results: {lora_model_eval_results}\\n\")\n",
        "print(f\"Loaded LoRA Model Evaluation: {loaded_lora_model_eval_results}\")\n",
        "\n"
      ]
    },
    {
      "cell_type": "markdown",
      "source": [
        "# Results\n",
        "\n",
        "After evaluating the models. It's clear that the PEFT model has a better accuracy then then the pretrained HF gpt2 model. There wasn't an Immense difference between the models in relation to their accuracies and precision. Most tests were done using small test sections of the dataset. Both images below are from the small test dataset. If the model was trained on the full dataset the results could improve. Regardless, Low Rank Adaptation (LoRA) showed to be a successful fine-tuning method for this project.\n",
        "\n",
        "\n",
        "-----------\n",
        "\n",
        "\n",
        "\n",
        "\n",
        "gpt2 model\n",
        "\n",
        "![Screenshot 2024-08-04 190925.png](data:image/png;base64,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)\n",
        "\n",
        "\n",
        "\n",
        "PEFT model LoRA\n",
        "\n",
        "\n",
        "\n",
        "![Screenshot 2024-08-04 190938.png](data:image/png;base64,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)"
      ],
      "metadata": {
        "id": "3Gcx93rMilNB"
      },
      "id": "3Gcx93rMilNB"
    }
  ],
  "metadata": {
    "accelerator": "GPU",
    "colab": {
      "gpuType": "T4",
      "provenance": []
    },
    "kernelspec": {
      "display_name": "Python 3",
      "name": "python3"
    },
    "language_info": {
      "codemirror_mode": {
        "name": "ipython",
        "version": 3
      },
      "file_extension": ".py",
      "mimetype": "text/x-python",
      "name": "python",
      "nbconvert_exporter": "python",
      "pygments_lexer": "ipython3",
      "version": "3.11.4"
    }
  },
  "nbformat": 4,
  "nbformat_minor": 5
}